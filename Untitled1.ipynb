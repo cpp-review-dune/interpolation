{
 "cells": [
  {
   "cell_type": "code",
   "execution_count": 1,
   "id": "7a58a66a-bb79-4908-b213-6f5212f7110d",
   "metadata": {},
   "outputs": [],
   "source": [
    "import matplotlib.pyplot as plt\n",
    "import numpy as np\n",
    "import splines"
   ]
  },
  {
   "cell_type": "code",
   "execution_count": 2,
   "id": "75a1bb34-54f3-4aba-824d-1245897fa3be",
   "metadata": {},
   "outputs": [],
   "source": [
    "control_points = [\n",
    "    [(0, 0), (1, 4)],\n",
    "    [(1, 4), (2, 2), (4, 4)],\n",
    "    [(4, 4), (6, 4), (5, 2), (7, 2)],\n",
    "    [(7, 2), (8, 0), (4, 0), (5, 1), (3, 1)],\n",
    "]"
   ]
  },
  {
   "cell_type": "code",
   "execution_count": 3,
   "id": "c1812e31-7d2f-47e5-a5cd-5e0d8e197da5",
   "metadata": {},
   "outputs": [],
   "source": [
    "s = splines.Bernstein(control_points)\n"
   ]
  },
  {
   "cell_type": "code",
   "execution_count": null,
   "id": "55d66130-745f-46d9-a9d5-401e4b3787c5",
   "metadata": {},
   "outputs": [],
   "source": []
  }
 ],
 "metadata": {
  "kernelspec": {
   "display_name": "Python 3 (ipykernel)",
   "language": "python",
   "name": "python3"
  },
  "language_info": {
   "codemirror_mode": {
    "name": "ipython",
    "version": 3
   },
   "file_extension": ".py",
   "mimetype": "text/x-python",
   "name": "python",
   "nbconvert_exporter": "python",
   "pygments_lexer": "ipython3",
   "version": "3.11.3"
  }
 },
 "nbformat": 4,
 "nbformat_minor": 5
}
