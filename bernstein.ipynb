{
 "cells": [
  {
   "cell_type": "markdown",
   "id": "a24aa261-01ad-440f-b9f1-a7dcb241fb00",
   "metadata": {},
   "source": [
    "## Polinomios de Bernstein\n",
    "\n",
    "$$\n",
    "B_{k, n}\\left(t\\right)\\coloneqq\n",
    "\\binom{n}{k}t^{k}{\\left(1-t\\right)}^{n-k}\n",
    "$$"
   ]
  },
  {
   "cell_type": "code",
   "execution_count": null,
   "id": "edb32907-cb7a-4ab6-a56e-162f8a93202d",
   "metadata": {},
   "outputs": [],
   "source": [
    "import matplotlib.pyplot as plt\n",
    "import numpy as np\n",
    "\n",
    "plt.rcParams[\"text.usetex\"] = True\n",
    "plt.rcParams[\"font.serif\"] = [\"Computer Modern\"]"
   ]
  },
  {
   "cell_type": "code",
   "execution_count": null,
   "id": "6a7fab02-61d0-43c0-a6f4-ea3c1faf5499",
   "metadata": {},
   "outputs": [],
   "source": [
    "def bernstein(t: float, k: int, n: int):\n",
    "    from math import comb\n",
    "\n",
    "    if k == -1:\n",
    "        return 0\n",
    "    else:\n",
    "        return comb(n, k) * t**k * (1 - t) ** (n - k)"
   ]
  },
  {
   "cell_type": "code",
   "execution_count": null,
   "id": "c39973f7-4f6a-4576-a770-3e33c4014d5d",
   "metadata": {},
   "outputs": [],
   "source": [
    "def plot_bernstein(n: int):\n",
    "    t = np.linspace(0, 1)\n",
    "\n",
    "    for k in range(n + 1):\n",
    "        plt.plot(t, bernstein(t, k, n), lw=0.75)\n",
    "    \n",
    "    plt.title(r\"Polinomios de Bernstein $B_{k, n}\\left(t\\right)$\")"
   ]
  },
  {
   "cell_type": "code",
   "execution_count": null,
   "id": "175cfd34-8fe0-470d-a3ea-99d07a6af18a",
   "metadata": {},
   "outputs": [],
   "source": [
    "plot_bernstein(n=4)"
   ]
  },
  {
   "cell_type": "code",
   "execution_count": null,
   "id": "5226ca1c-695f-468d-879b-a40d70ab56d7",
   "metadata": {},
   "outputs": [],
   "source": [
    "def bernstein_derivative(t: float, k: int, n: int):\n",
    "    return n * bernstein(t=t, k=k-1, n=n-1) - bernstein(t=t, k=k, n=n-1)"
   ]
  },
  {
   "cell_type": "code",
   "execution_count": null,
   "id": "f3dfae72-885b-42d1-92f2-332aac1d2eb2",
   "metadata": {},
   "outputs": [],
   "source": [
    "def plot_bernstein_derivative(n: int):\n",
    "    t = np.linspace(0, 1)\n",
    "\n",
    "    for k in range(n + 1):\n",
    "        plt.plot(t, bernstein_derivative(t, k, n), lw=0.75)\n",
    "\n",
    "    plt.title(r\"Polinomios de Bernstein $B^{\\prime}_{k, n}\\left(t\\right)$\")"
   ]
  },
  {
   "cell_type": "code",
   "execution_count": null,
   "id": "b34a995b-07cd-4659-9f82-a87c1a4cadab",
   "metadata": {},
   "outputs": [],
   "source": [
    "plot_bernstein_derivative(n=4)"
   ]
  },
  {
   "cell_type": "code",
   "execution_count": null,
   "id": "5a3aa54f-b56e-4232-986a-6962a5565846",
   "metadata": {},
   "outputs": [],
   "source": [
    "# ejercicio, definirlo por recurrencia"
   ]
  },
  {
   "cell_type": "code",
   "execution_count": null,
   "id": "07fa541f-9b51-4f4a-9964-a6171a8db8dd",
   "metadata": {},
   "outputs": [],
   "source": [
    "# print(x)\n",
    "# x_new = (x - a) / (b - a)\n",
    "# Verificacion\n",
    "# assert x_new[0] == 0\n",
    "# assert x_new[-1] == 1"
   ]
  },
  {
   "cell_type": "code",
   "execution_count": null,
   "id": "e046ca8f-a249-4aa1-bafd-f0c3014aa205",
   "metadata": {},
   "outputs": [],
   "source": [
    "def bernstein_generalized(t: np.array, a: int, b: int, k: int, n: int):\n",
    "    from math import comb\n",
    "\n",
    "    return comb(n, k) * ((t - a) ** k * (b - t) ** (n - k)) / (b - a) ** n"
   ]
  },
  {
   "cell_type": "code",
   "execution_count": null,
   "id": "28dbbf49-741c-453d-b077-b20a5d24e8d8",
   "metadata": {},
   "outputs": [],
   "source": [
    "def plot_bernstein_generalized(a: float, b: float, n: int):\n",
    "    t = np.linspace(a, b)\n",
    "    for k in range(n + 1):\n",
    "        plt.plot(t, bernstein_generalized(t=t, a=a, b=b, k=k, n=n))"
   ]
  },
  {
   "cell_type": "code",
   "execution_count": null,
   "id": "ed17d0b2-7838-41bf-b10e-e69bb1c50d9c",
   "metadata": {},
   "outputs": [],
   "source": [
    "plot_bernstein_generalized(a=-2 * np.pi, b=2 * np.pi, n=3)"
   ]
  },
  {
   "cell_type": "code",
   "execution_count": null,
   "id": "f60cb67f-6d39-49f2-9030-f387a1747090",
   "metadata": {},
   "outputs": [],
   "source": [
    "# ejercicio: calcular la derivada usando la fórmula de la página 6/44"
   ]
  },
  {
   "cell_type": "code",
   "execution_count": null,
   "id": "3cc0cec2-35da-4089-a525-5b82a410c4fd",
   "metadata": {},
   "outputs": [],
   "source": [
    "n = 5"
   ]
  },
  {
   "cell_type": "code",
   "execution_count": null,
   "id": "89491910-9c44-4f27-8f31-1c33f0299968",
   "metadata": {},
   "outputs": [],
   "source": [
    "def maximum_value_bernstein(n: int):\n",
    "    for k in range(n + 1):\n",
    "        print(f\"k = {k}, en {k / n}, su máximo es {bernstein(t=k / n, k=k, n=n)}\")"
   ]
  },
  {
   "cell_type": "code",
   "execution_count": null,
   "id": "0cf1027d-9e53-43bf-a932-7b0d1981232e",
   "metadata": {},
   "outputs": [],
   "source": [
    "maximum_value_bernstein(3)"
   ]
  },
  {
   "cell_type": "code",
   "execution_count": null,
   "id": "e113a2ca-4eb8-4c03-834d-f1dcd0cd51c0",
   "metadata": {},
   "outputs": [],
   "source": [
    "plot_bernstein(3)"
   ]
  },
  {
   "cell_type": "code",
   "execution_count": null,
   "id": "2ac2340f-f41e-4fb2-bcb6-03e973771a6c",
   "metadata": {},
   "outputs": [],
   "source": [
    "x = np.linspace(0, 1)\n",
    "k = 0\n",
    "n = 2\n",
    "# bernstein(t=x, k=k, n=n)\n",
    "# bernstein(t=1-x, k=n - k, n=n)"
   ]
  },
  {
   "cell_type": "code",
   "execution_count": null,
   "id": "4a2fbe38-2436-46de-8a36-80cfa3d12803",
   "metadata": {},
   "outputs": [],
   "source": [
    "from typing import Callable"
   ]
  },
  {
   "cell_type": "code",
   "execution_count": null,
   "id": "c0ba521e-aef9-4859-9096-456f8182eb01",
   "metadata": {},
   "outputs": [],
   "source": [
    "# ejercicio: bernstein_f para un dominio [a, b]"
   ]
  },
  {
   "cell_type": "code",
   "execution_count": null,
   "id": "000fdfea-28c2-4906-a7e9-16189e636286",
   "metadata": {},
   "outputs": [],
   "source": [
    "def bernstein_f(t: np.array, f: Callable, n: int):\n",
    "    from math import comb\n",
    "\n",
    "    b = 0\n",
    "    for k in range(n + 1):\n",
    "        b = b + f(k / n) * comb(n, k) * t**k * (1 - t) ** (n - k)\n",
    "        # print(b)\n",
    "    return b"
   ]
  },
  {
   "cell_type": "code",
   "execution_count": null,
   "id": "6888997a-08e0-482b-918b-535366689ed7",
   "metadata": {},
   "outputs": [],
   "source": [
    "x = np.linspace(0, 1)\n",
    "y = np.cos(x)\n",
    "plt.plot(x, y, \"r\")\n",
    "plt.plot(x, bernstein_f(x, lambda x: np.cos(x), 1), \"c\")\n",
    "plt.plot(x, bernstein_f(x, lambda x: np.cos(x), 2), \"g\")\n",
    "plt.plot(x, bernstein_f(x, lambda x: np.cos(x), 9), \"p\")"
   ]
  },
  {
   "cell_type": "code",
   "execution_count": null,
   "id": "011b7701-693c-421c-95e9-6d36124ff98d",
   "metadata": {},
   "outputs": [],
   "source": [
    "g = lambda x: x"
   ]
  },
  {
   "cell_type": "code",
   "execution_count": null,
   "id": "c6ca8161-3d6b-4ff1-b8d2-690ff3cbd0da",
   "metadata": {},
   "outputs": [],
   "source": [
    "def plot_bernstein(f: Callable, n: int):\n",
    "    t_ = np.linspace(0, 1)\n",
    "\n",
    "    for k in range(n + 1):\n",
    "        print(k)\n",
    "        plt.plot(t_, bernstein_f(t_, f, n))"
   ]
  },
  {
   "cell_type": "code",
   "execution_count": null,
   "id": "8f3bcbdb-faad-4238-91f3-2a58f6dd6244",
   "metadata": {},
   "outputs": [],
   "source": [
    "# plot_bernstein(f=g, n=2)\n",
    "# plt.plot(t_, bernstein_f(t_, f, n))"
   ]
  },
  {
   "cell_type": "code",
   "execution_count": null,
   "id": "dcf437d3-09f3-4f04-a5a5-b4ea5cad61da",
   "metadata": {},
   "outputs": [],
   "source": [
    "# np.sum(lista)"
   ]
  },
  {
   "cell_type": "code",
   "execution_count": null,
   "id": "dc1fb41f-fc1f-4070-ab44-fce06eafed50",
   "metadata": {},
   "outputs": [],
   "source": [
    "def casteljau(puntos: np.array, t: float):\n",
    "    assert 0 <= t <= 1\n",
    "    n = puntos.shape[0] - 1\n",
    "    alfa = np.copy(puntos)\n",
    "\n",
    "    for r in range(1, n + 1):\n",
    "        for i in range(0, n - r + 1):\n",
    "            # print(f\"(r, i) = {(r, i)}\\t\\t(r - 1, i) = {(r - 1, i)}\\t (r - 1, i + 1) = {(r - 1, i + 1)}\")\n",
    "            puntos_0[i] = (1 - t) * puntos_0[i] + t * puntos_0[i + 1]\n",
    "    return puntos_0"
   ]
  },
  {
   "cell_type": "code",
   "execution_count": null,
   "id": "ba9bcfd2-84e8-443e-8373-ee96118e27b4",
   "metadata": {},
   "outputs": [],
   "source": [
    "puntos = np.array([(0, 0), (0, 2), (8, 2), (4, 0)])"
   ]
  },
  {
   "cell_type": "code",
   "execution_count": null,
   "id": "df335010-3666-4c9d-8523-abe93e1497f6",
   "metadata": {},
   "outputs": [],
   "source": [
    "casteljau(puntos, 0.5)"
   ]
  },
  {
   "cell_type": "code",
   "execution_count": null,
   "id": "a1b7fc90-8cea-4e1d-856f-367f786b5655",
   "metadata": {},
   "outputs": [],
   "source": [
    "puntos_0"
   ]
  },
  {
   "cell_type": "code",
   "execution_count": null,
   "id": "d965e336-a693-4f5d-95d5-fc42effe73f3",
   "metadata": {},
   "outputs": [],
   "source": [
    "t = 0.5"
   ]
  },
  {
   "cell_type": "code",
   "execution_count": null,
   "id": "ba1d3499-d510-45e6-ad47-5b27663e7e90",
   "metadata": {},
   "outputs": [],
   "source": [
    "puntos_0"
   ]
  },
  {
   "cell_type": "code",
   "execution_count": null,
   "id": "bdbdea18-c045-414b-b370-b056c463408f",
   "metadata": {},
   "outputs": [],
   "source": [
    "puntos_0[1]"
   ]
  },
  {
   "cell_type": "code",
   "execution_count": null,
   "id": "d782f450-9157-4fdc-b0cc-66070e3181fc",
   "metadata": {},
   "outputs": [],
   "source": [
    "# primer punto es multplicado por (1 - t)\n",
    "# segundo punto es multiplicado por t"
   ]
  },
  {
   "cell_type": "code",
   "execution_count": null,
   "id": "0cc1e2e9-72fe-416d-ab9c-67bff4eec5d5",
   "metadata": {},
   "outputs": [],
   "source": []
  },
  {
   "cell_type": "code",
   "execution_count": null,
   "id": "1236b66c-b102-4b6b-ad73-a916e4ede242",
   "metadata": {},
   "outputs": [],
   "source": []
  }
 ],
 "metadata": {
  "kernelspec": {
   "display_name": "Python 3 (ipykernel)",
   "language": "python",
   "name": "python3"
  },
  "language_info": {
   "codemirror_mode": {
    "name": "ipython",
    "version": 3
   },
   "file_extension": ".py",
   "mimetype": "text/x-python",
   "name": "python",
   "nbconvert_exporter": "python",
   "pygments_lexer": "ipython3",
   "version": "3.11.3"
  }
 },
 "nbformat": 4,
 "nbformat_minor": 5
}
